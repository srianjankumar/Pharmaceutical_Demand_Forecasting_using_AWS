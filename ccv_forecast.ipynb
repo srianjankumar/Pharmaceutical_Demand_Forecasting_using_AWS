{
 "cells": [
  {
   "cell_type": "code",
   "execution_count": 1,
   "id": "0850937a",
   "metadata": {},
   "outputs": [],
   "source": [
    "import time\n",
    "import numpy as np\n",
    "import pandas as pd\n",
    "import json\n",
    "import matplotlib.pyplot as plt\n",
    "import boto3\n",
    "import sagemaker\n",
    "from sagemaker import get_execution_role"
   ]
  },
  {
   "cell_type": "code",
   "execution_count": 5,
   "id": "3eb6c385",
   "metadata": {},
   "outputs": [],
   "source": [
    "import boto3\n",
    "forecast = boto3.client('forecast')"
   ]
  },
  {
   "cell_type": "code",
   "execution_count": 6,
   "id": "5075f6bc",
   "metadata": {},
   "outputs": [],
   "source": [
    "ds_response = client.create_dataset(\n",
    "    DatasetName='cvvproj1',\n",
    "    Domain='RETAIL',\n",
    "    DatasetType='TARGET_TIME_SERIES',\n",
    "    DataFrequency='D',\n",
    "    Schema={\n",
    "        'Attributes': [\n",
    "            {\n",
    "                'AttributeName': 'item_id',\n",
    "                'AttributeType': 'string'\n",
    "            },\n",
    "            {\n",
    "                'AttributeName': 'timestamp',\n",
    "                'AttributeType': 'timestamp'\n",
    "            },\n",
    "            {\n",
    "                'AttributeName': 'demand',\n",
    "                'AttributeType': 'integer'\n",
    "            },\n",
    "            {\n",
    "                'AttributeName': 'branch_code',\n",
    "                'AttributeType': 'string'\n",
    "            },\n",
    "        ]\n",
    "    }\n",
    ")"
   ]
  },
  {
   "cell_type": "code",
   "execution_count": 7,
   "id": "b218e3f9",
   "metadata": {},
   "outputs": [
    {
     "name": "stdout",
     "output_type": "stream",
     "text": [
      "arn:aws:forecast:ap-south-1:989581089309:dataset/cvvproj1\n"
     ]
    }
   ],
   "source": [
    "dataset_arn= ds_response['DatasetArn']\n",
    "print(dataset_arn)"
   ]
  },
  {
   "cell_type": "code",
   "execution_count": 8,
   "id": "94ea009c",
   "metadata": {},
   "outputs": [],
   "source": [
    "dsgrp_response = client.create_dataset_group(\n",
    "    DatasetGroupName='cvvprojgrp1',\n",
    "    Domain='RETAIL',\n",
    "    DatasetArns=[\n",
    "        dataset_arn,\n",
    "    ],\n",
    ")"
   ]
  },
  {
   "cell_type": "code",
   "execution_count": 9,
   "id": "928d29a4",
   "metadata": {},
   "outputs": [
    {
     "name": "stdout",
     "output_type": "stream",
     "text": [
      "{'DatasetGroupArn': 'arn:aws:forecast:ap-south-1:989581089309:dataset-group/cvvprojgrp1', 'ResponseMetadata': {'RequestId': 'aa1109dd-4d57-45f3-98ed-7cbcdd574e22', 'HTTPStatusCode': 200, 'HTTPHeaders': {'date': 'Mon, 14 Nov 2022 13:20:43 GMT', 'content-type': 'application/x-amz-json-1.1', 'content-length': '88', 'connection': 'keep-alive', 'x-amzn-requestid': 'aa1109dd-4d57-45f3-98ed-7cbcdd574e22'}, 'RetryAttempts': 0}}\n"
     ]
    }
   ],
   "source": [
    "print(dsgrp_response)"
   ]
  },
  {
   "cell_type": "code",
   "execution_count": 10,
   "id": "dd00e699",
   "metadata": {},
   "outputs": [],
   "source": [
    "dsgrp_arn='arn:aws:forecast:ap-south-1:989581089309:dataset-group/cvvprojgrp1'"
   ]
  },
  {
   "cell_type": "code",
   "execution_count": 12,
   "id": "a90d2f6c",
   "metadata": {},
   "outputs": [],
   "source": [
    "role_arn=\"arn:aws:iam::989581089309:role/service-role/AmazonForecast-ExecutionRole-1668330818615\"\n",
    "dsij_response = client.create_dataset_import_job(\n",
    "    DatasetImportJobName='impccvproj1',\n",
    "    DatasetArn=dataset_arn,\n",
    "    DataSource={\n",
    "        'S3Config': {\n",
    "            'Path': 's3://ccvdemoproj/consolidated_sample_dataset.csv',\n",
    "            'RoleArn':role_arn,\n",
    "        }\n",
    "    },\n",
    "    TimestampFormat='yyyy-MM-dd HH:mm:ss',\n",
    ")"
   ]
  },
  {
   "cell_type": "code",
   "execution_count": 29,
   "id": "68a83afc",
   "metadata": {
    "scrolled": true
   },
   "outputs": [],
   "source": [
    "forecastHorizon=24\n",
    "create_predictor_response=client.create_predictor(PredictorName=\"ccvprojpredic\", \n",
    "                                                  ForecastHorizon=forecastHorizon,\n",
    "                                                  PerformAutoML=True,\n",
    "                                                  PerformHPO=False,\n",
    "                                                  EvaluationParameters= {\"NumberOfBacktestWindows\": 1, \n",
    "                                                                         \"BackTestWindowOffset\": 24}, \n",
    "                                                  InputDataConfig= {\"DatasetGroupArn\": dsgrp_arn},\n",
    "                                                  FeaturizationConfig= {\"ForecastFrequency\": \"D\", \n",
    "                                                                        \"Featurizations\": \n",
    "                                                                        [\n",
    "                                                                          {\"AttributeName\": \"demand\", \n",
    "                                                                           \"FeaturizationPipeline\": \n",
    "                                                                            [\n",
    "                                                                              {\"FeaturizationMethodName\": \"filling\", \n",
    "                                                                               \"FeaturizationMethodParameters\": \n",
    "                                                                                {\"frontfill\": \"none\", \n",
    "                                                                                 \"middlefill\": \"zero\", \n",
    "                                                                                 \"backfill\": \"zero\"}\n",
    "                                                                              }\n",
    "                                                                            ]\n",
    "                                                                          }\n",
    "                                                                        ]\n",
    "                                                                       }\n",
    "                                                 )"
   ]
  },
  {
   "cell_type": "code",
   "execution_count": 31,
   "id": "e0980b26",
   "metadata": {},
   "outputs": [
    {
     "name": "stdout",
     "output_type": "stream",
     "text": [
      "arn:aws:forecast:ap-south-1:989581089309:predictor/ccvprojpredic\n"
     ]
    }
   ],
   "source": [
    "predictorArn=create_predictor_response['PredictorArn']\n",
    "print(predictorArn)"
   ]
  },
  {
   "cell_type": "code",
   "execution_count": 40,
   "id": "c7c22bcb",
   "metadata": {},
   "outputs": [
    {
     "name": "stdout",
     "output_type": "stream",
     "text": [
      "At least one Predictor build is still in progress\n",
      "At least one Predictor build is still in progress\n",
      "At least one Predictor build is still in progress\n",
      "At least one Predictor build is still in progress\n",
      "At least one Predictor build is still in progress\n",
      "At least one Predictor build is still in progress\n",
      "At least one Predictor build is still in progress\n",
      "At least one Predictor build is still in progress\n",
      "At least one Predictor build is still in progress\n",
      "At least one Predictor build is still in progress\n",
      "At least one Predictor build is still in progress\n",
      "At least one Predictor build is still in progress\n",
      "At least one Predictor build is still in progress\n",
      "At least one Predictor build is still in progress\n",
      "At least one Predictor build is still in progress\n",
      "At least one Predictor build is still in progress\n",
      "At least one Predictor build is still in progress\n",
      "At least one Predictor build is still in progress\n",
      "At least one Predictor build is still in progress\n",
      "At least one Predictor build is still in progress\n",
      "At least one Predictor build is still in progress\n",
      "At least one Predictor build is still in progress\n",
      "At least one Predictor build is still in progress\n",
      "At least one Predictor build is still in progress\n",
      "At least one Predictor build is still in progress\n",
      "At least one Predictor build is still in progress\n",
      "At least one Predictor build is still in progress\n",
      "At least one Predictor build is still in progress\n",
      "At least one Predictor build is still in progress\n",
      "At least one Predictor build is still in progress\n",
      "At least one Predictor build is still in progress\n",
      "At least one Predictor build is still in progress\n",
      "At least one Predictor build is still in progress\n",
      "At least one Predictor build is still in progress\n",
      "At least one Predictor build is still in progress\n",
      "At least one Predictor build is still in progress\n",
      "At least one Predictor build is still in progress\n",
      "At least one Predictor build is still in progress\n",
      "At least one Predictor build is still in progress\n",
      "At least one Predictor build is still in progress\n",
      "At least one Predictor build is still in progress\n",
      "At least one Predictor build is still in progress\n",
      "At least one Predictor build is still in progress\n",
      "At least one Predictor build is still in progress\n",
      "At least one Predictor build is still in progress\n",
      "At least one Predictor build is still in progress\n",
      "At least one Predictor build is still in progress\n",
      "At least one Predictor build is still in progress\n",
      "At least one Predictor build is still in progress\n",
      "At least one Predictor build is still in progress\n",
      "Build succeeded for arn:aws:forecast:ap-south-1:989581089309:predictor/ccvprojpredic\n"
     ]
    }
   ],
   "source": [
    "predictorArn=create_predictor_response['PredictorArn']\n",
    "in_progress_predictors = [\n",
    "     create_predictor_response['PredictorArn']\n",
    "]\n",
    "max_time = time.time() + 3*60*60 # 3 hours\n",
    "while time.time() < max_time:\n",
    "    for predictor_arn in in_progress_predictors:\n",
    "        predictor_response = client.describe_predictor(\n",
    "            PredictorArn = predictorArn\n",
    "        )\n",
    "        status = predictor_response[\"Status\"]\n",
    "        \n",
    "        if status == \"ACTIVE\":\n",
    "            print(\"Build succeeded for {}\".format(predictorArn))\n",
    "            in_progress_predictors.remove(predictorArn)\n",
    "        elif status == \"CREATE FAILED\":\n",
    "            print(\"Build failed for {}\".format(predictorArn))\n",
    "            in_progress_predictors.remove(predictorArn)\n",
    "    \n",
    "    if len(in_progress_predictors) <= 0:\n",
    "        break\n",
    "    else:\n",
    "        print(\"At least one Predictor build is still in progress\")\n",
    "        \n",
    "    time.sleep(60)"
   ]
  },
  {
   "cell_type": "code",
   "execution_count": 41,
   "id": "550e2364",
   "metadata": {},
   "outputs": [
    {
     "data": {
      "text/plain": [
       "{'PredictorEvaluationResults': [{'AlgorithmArn': 'arn:aws:forecast:::algorithm/Deep_AR_Plus',\n",
       "   'TestWindows': [{'EvaluationType': 'SUMMARY',\n",
       "     'Metrics': {'RMSE': 53440.361495732424,\n",
       "      'WeightedQuantileLosses': [{'Quantile': 0.9,\n",
       "        'LossValue': 0.4495077963957709},\n",
       "       {'Quantile': 0.5, 'LossValue': 0.534138895485753},\n",
       "       {'Quantile': 0.1, 'LossValue': 0.18085166597559166}],\n",
       "      'ErrorMetrics': [{'ForecastType': 'mean',\n",
       "        'WAPE': 0.526836351030612,\n",
       "        'RMSE': 53440.361495732424,\n",
       "        'MASE': 5.169068697659013,\n",
       "        'MAPE': 10.202728935702023}],\n",
       "      'AverageWeightedQuantileLoss': 0.38816611928570516}},\n",
       "    {'TestWindowStart': datetime.datetime(2022, 2, 5, 0, 0, tzinfo=tzlocal()),\n",
       "     'TestWindowEnd': datetime.datetime(2022, 3, 1, 0, 0, tzinfo=tzlocal()),\n",
       "     'ItemCount': 15,\n",
       "     'EvaluationType': 'COMPUTED',\n",
       "     'Metrics': {'RMSE': 53440.361495732424,\n",
       "      'WeightedQuantileLosses': [{'Quantile': 0.9,\n",
       "        'LossValue': 0.4495077963957709},\n",
       "       {'Quantile': 0.5, 'LossValue': 0.534138895485753},\n",
       "       {'Quantile': 0.1, 'LossValue': 0.18085166597559169}],\n",
       "      'ErrorMetrics': [{'ForecastType': 'mean',\n",
       "        'WAPE': 0.526836351030612,\n",
       "        'RMSE': 53440.361495732424,\n",
       "        'MASE': 5.169068697659013,\n",
       "        'MAPE': 10.202728935702025}],\n",
       "      'AverageWeightedQuantileLoss': 0.38816611928570516}}]},\n",
       "  {'AlgorithmArn': 'arn:aws:forecast:::algorithm/CNN-QR',\n",
       "   'TestWindows': [{'EvaluationType': 'SUMMARY',\n",
       "     'Metrics': {'RMSE': 60263.06074793667,\n",
       "      'WeightedQuantileLosses': [{'Quantile': 0.9,\n",
       "        'LossValue': 0.544041389471124},\n",
       "       {'Quantile': 0.5, 'LossValue': 0.5952746187929298},\n",
       "       {'Quantile': 0.1, 'LossValue': 0.20380391487131655}],\n",
       "      'ErrorMetrics': [{'ForecastType': 'mean',\n",
       "        'WAPE': 0.5952746187929298,\n",
       "        'RMSE': 60263.06074793667,\n",
       "        'MASE': 1.5538015103111984,\n",
       "        'MAPE': 13.95922437220236}],\n",
       "      'AverageWeightedQuantileLoss': 0.44770664104512353}},\n",
       "    {'TestWindowStart': datetime.datetime(2022, 2, 5, 0, 0, tzinfo=tzlocal()),\n",
       "     'TestWindowEnd': datetime.datetime(2022, 3, 1, 0, 0, tzinfo=tzlocal()),\n",
       "     'ItemCount': 15,\n",
       "     'EvaluationType': 'COMPUTED',\n",
       "     'Metrics': {'RMSE': 60263.06074793667,\n",
       "      'WeightedQuantileLosses': [{'Quantile': 0.9,\n",
       "        'LossValue': 0.544041389471124},\n",
       "       {'Quantile': 0.5, 'LossValue': 0.5952746187929298},\n",
       "       {'Quantile': 0.1, 'LossValue': 0.2038039148713166}],\n",
       "      'ErrorMetrics': [{'ForecastType': 'mean',\n",
       "        'WAPE': 0.5952746187929298,\n",
       "        'RMSE': 60263.06074793667,\n",
       "        'MASE': 1.5538015103111984,\n",
       "        'MAPE': 13.959224372202359}],\n",
       "      'AverageWeightedQuantileLoss': 0.44770664104512353}}]},\n",
       "  {'AlgorithmArn': 'arn:aws:forecast:::algorithm/NPTS',\n",
       "   'TestWindows': [{'EvaluationType': 'SUMMARY',\n",
       "     'Metrics': {'RMSE': 62772.93775022625,\n",
       "      'WeightedQuantileLosses': [{'Quantile': 0.9,\n",
       "        'LossValue': 0.5870577476547442},\n",
       "       {'Quantile': 0.5, 'LossValue': 0.6349398081222574},\n",
       "       {'Quantile': 0.1, 'LossValue': 0.19899123049734194}],\n",
       "      'ErrorMetrics': [{'ForecastType': 'mean',\n",
       "        'WAPE': 0.6505370469385571,\n",
       "        'RMSE': 62772.93775022625,\n",
       "        'MASE': 47.792439446891855,\n",
       "        'MAPE': 79.8805281114803}],\n",
       "      'AverageWeightedQuantileLoss': 0.4736629287581145}},\n",
       "    {'TestWindowStart': datetime.datetime(2022, 2, 5, 0, 0, tzinfo=tzlocal()),\n",
       "     'TestWindowEnd': datetime.datetime(2022, 3, 1, 0, 0, tzinfo=tzlocal()),\n",
       "     'ItemCount': 15,\n",
       "     'EvaluationType': 'COMPUTED',\n",
       "     'Metrics': {'RMSE': 62772.93775022625,\n",
       "      'WeightedQuantileLosses': [{'Quantile': 0.9,\n",
       "        'LossValue': 0.5870577476547442},\n",
       "       {'Quantile': 0.5, 'LossValue': 0.6349398081222574},\n",
       "       {'Quantile': 0.1, 'LossValue': 0.1989912304973419}],\n",
       "      'ErrorMetrics': [{'ForecastType': 'mean',\n",
       "        'WAPE': 0.650537046938557,\n",
       "        'RMSE': 62772.93775022625,\n",
       "        'MASE': 47.792439446891855,\n",
       "        'MAPE': 79.8805281114803}],\n",
       "      'AverageWeightedQuantileLoss': 0.47366292875811444}}]},\n",
       "  {'AlgorithmArn': 'arn:aws:forecast:::algorithm/ARIMA',\n",
       "   'TestWindows': [{'EvaluationType': 'SUMMARY',\n",
       "     'Metrics': {'RMSE': 58626.23949452706,\n",
       "      'WeightedQuantileLosses': [{'Quantile': 0.9,\n",
       "        'LossValue': 0.5758517307147099},\n",
       "       {'Quantile': 0.5, 'LossValue': 0.6200205500905992},\n",
       "       {'Quantile': 0.1, 'LossValue': 0.299442820843581}],\n",
       "      'ErrorMetrics': [{'ForecastType': 'mean',\n",
       "        'WAPE': 0.6200205500905992,\n",
       "        'RMSE': 58626.23949452706,\n",
       "        'MASE': 18.01821761285522,\n",
       "        'MAPE': 28.159140898584273}],\n",
       "      'AverageWeightedQuantileLoss': 0.49843836721629664}},\n",
       "    {'TestWindowStart': datetime.datetime(2022, 2, 5, 0, 0, tzinfo=tzlocal()),\n",
       "     'TestWindowEnd': datetime.datetime(2022, 3, 1, 0, 0, tzinfo=tzlocal()),\n",
       "     'ItemCount': 15,\n",
       "     'EvaluationType': 'COMPUTED',\n",
       "     'Metrics': {'RMSE': 58626.23949452706,\n",
       "      'WeightedQuantileLosses': [{'Quantile': 0.9,\n",
       "        'LossValue': 0.5758517307147099},\n",
       "       {'Quantile': 0.5, 'LossValue': 0.6200205500905992},\n",
       "       {'Quantile': 0.1, 'LossValue': 0.29944282084358104}],\n",
       "      'ErrorMetrics': [{'ForecastType': 'mean',\n",
       "        'WAPE': 0.6200205500905992,\n",
       "        'RMSE': 58626.23949452706,\n",
       "        'MASE': 18.01821761285522,\n",
       "        'MAPE': 28.159140898584276}],\n",
       "      'AverageWeightedQuantileLoss': 0.4984383672162967}}]},\n",
       "  {'AlgorithmArn': 'arn:aws:forecast:::algorithm/ETS',\n",
       "   'TestWindows': [{'EvaluationType': 'SUMMARY',\n",
       "     'Metrics': {'RMSE': 57903.87470028006,\n",
       "      'WeightedQuantileLosses': [{'Quantile': 0.9,\n",
       "        'LossValue': 0.5792664523892438},\n",
       "       {'Quantile': 0.5, 'LossValue': 0.66710580674709},\n",
       "       {'Quantile': 0.1, 'LossValue': 0.2946048930316661}],\n",
       "      'ErrorMetrics': [{'ForecastType': 'mean',\n",
       "        'WAPE': 0.66710580674709,\n",
       "        'RMSE': 57903.87470028006,\n",
       "        'MASE': 14.40304170490478,\n",
       "        'MAPE': 30.675230283761163}],\n",
       "      'AverageWeightedQuantileLoss': 0.5136590507226666}},\n",
       "    {'TestWindowStart': datetime.datetime(2022, 2, 5, 0, 0, tzinfo=tzlocal()),\n",
       "     'TestWindowEnd': datetime.datetime(2022, 3, 1, 0, 0, tzinfo=tzlocal()),\n",
       "     'ItemCount': 15,\n",
       "     'EvaluationType': 'COMPUTED',\n",
       "     'Metrics': {'RMSE': 57903.87470028006,\n",
       "      'WeightedQuantileLosses': [{'Quantile': 0.9,\n",
       "        'LossValue': 0.5792664523892437},\n",
       "       {'Quantile': 0.5, 'LossValue': 0.6671058067470899},\n",
       "       {'Quantile': 0.1, 'LossValue': 0.2946048930316661}],\n",
       "      'ErrorMetrics': [{'ForecastType': 'mean',\n",
       "        'WAPE': 0.6671058067470899,\n",
       "        'RMSE': 57903.87470028006,\n",
       "        'MASE': 14.403041704904776,\n",
       "        'MAPE': 30.675230283761163}],\n",
       "      'AverageWeightedQuantileLoss': 0.5136590507226665}}]},\n",
       "  {'AlgorithmArn': 'arn:aws:forecast:::algorithm/Prophet',\n",
       "   'TestWindows': [{'EvaluationType': 'SUMMARY',\n",
       "     'Metrics': {'RMSE': 59522.28053303743,\n",
       "      'WeightedQuantileLosses': [{'Quantile': 0.9,\n",
       "        'LossValue': 0.6100656178892816},\n",
       "       {'Quantile': 0.5, 'LossValue': 0.821635885993483},\n",
       "       {'Quantile': 0.1, 'LossValue': 0.32057819240924185}],\n",
       "      'ErrorMetrics': [{'ForecastType': 'mean',\n",
       "        'WAPE': 0.8230495710877347,\n",
       "        'RMSE': 59522.28053303743,\n",
       "        'MASE': 92.3771393863857,\n",
       "        'MAPE': 136.82733940683275}],\n",
       "      'AverageWeightedQuantileLoss': 0.5840932320973355}},\n",
       "    {'TestWindowStart': datetime.datetime(2022, 2, 5, 0, 0, tzinfo=tzlocal()),\n",
       "     'TestWindowEnd': datetime.datetime(2022, 3, 1, 0, 0, tzinfo=tzlocal()),\n",
       "     'ItemCount': 15,\n",
       "     'EvaluationType': 'COMPUTED',\n",
       "     'Metrics': {'RMSE': 59522.28053303743,\n",
       "      'WeightedQuantileLosses': [{'Quantile': 0.9,\n",
       "        'LossValue': 0.6100656178892815},\n",
       "       {'Quantile': 0.5, 'LossValue': 0.8216358859934828},\n",
       "       {'Quantile': 0.1, 'LossValue': 0.3205781924092419}],\n",
       "      'ErrorMetrics': [{'ForecastType': 'mean',\n",
       "        'WAPE': 0.8230495710877348,\n",
       "        'RMSE': 59522.28053303743,\n",
       "        'MASE': 92.37713938638568,\n",
       "        'MAPE': 136.82733940683275}],\n",
       "      'AverageWeightedQuantileLoss': 0.5840932320973354}}]}],\n",
       " 'IsAutoPredictor': False,\n",
       " 'ResponseMetadata': {'RequestId': '00dd4dd4-c656-4729-a69d-339ba0b8c1cd',\n",
       "  'HTTPStatusCode': 200,\n",
       "  'HTTPHeaders': {'date': 'Mon, 14 Nov 2022 15:26:42 GMT',\n",
       "   'content-type': 'application/x-amz-json-1.1',\n",
       "   'content-length': '6077',\n",
       "   'connection': 'keep-alive',\n",
       "   'x-amzn-requestid': '00dd4dd4-c656-4729-a69d-339ba0b8c1cd'},\n",
       "  'RetryAttempts': 0}}"
      ]
     },
     "execution_count": 41,
     "metadata": {},
     "output_type": "execute_result"
    }
   ],
   "source": [
    "client.get_accuracy_metrics(PredictorArn=predictorArn)"
   ]
  },
  {
   "cell_type": "code",
   "execution_count": 42,
   "id": "0d244631",
   "metadata": {},
   "outputs": [
    {
     "name": "stdout",
     "output_type": "stream",
     "text": [
      "arn:aws:forecast:ap-south-1:989581089309:forecast/cvvprojforecast\n"
     ]
    }
   ],
   "source": [
    "forecastName=\"cvvprojforecast\"\n",
    "create_forecast_response=client.create_forecast(ForecastName=forecastName,\n",
    "                                                  PredictorArn=predictorArn)\n",
    "forecastArn = create_forecast_response['ForecastArn']\n",
    "print(forecastArn)"
   ]
  },
  {
   "cell_type": "code",
   "execution_count": 43,
   "id": "af0ef2f0",
   "metadata": {},
   "outputs": [
    {
     "name": "stdout",
     "output_type": "stream",
     "text": [
      "Build succeeded for arn:aws:forecast:ap-south-1:989581089309:forecast/cvvprojforecast\n"
     ]
    }
   ],
   "source": [
    "in_progress_forecast = [\n",
    "    create_forecast_response['ForecastArn']\n",
    "]\n",
    "\n",
    "max_time = time.time() + 3*60*60 # 3 hours\n",
    "while time.time() < max_time:\n",
    "    for forecast_arn in in_progress_forecast:\n",
    "        forecast_response = forecast.describe_forecast(\n",
    "            ForecastArn = forecast_arn\n",
    "        )\n",
    "        status = forecast_response[\"Status\"]\n",
    "        \n",
    "        if status == \"ACTIVE\":\n",
    "            print(\"Build succeeded for {}\".format(forecast_arn))\n",
    "            in_progress_forecast.remove(forecast_arn)\n",
    "        elif status == \"CREATE FAILED\":\n",
    "            print(\"Build failed for {}\".format(forecast_arn))\n",
    "            in_progress_forecast.remove(forecast_arn)\n",
    "    \n",
    "    if len(in_progress_forecast) <= 0:\n",
    "        break\n",
    "    else:\n",
    "        print(\"At least one Forecast build is still in progress\")\n",
    "        \n",
    "    time.sleep(60)"
   ]
  },
  {
   "cell_type": "code",
   "execution_count": 44,
   "id": "1b80fcc2",
   "metadata": {},
   "outputs": [],
   "source": [
    "forecastExportName='Export_forecasts'\n",
    "outputPath=\"s3://ccvdemoproj/ccvprojforecastresults\"\n",
    "forecast_export_response = forecast.create_forecast_export_job(\n",
    "                                                                ForecastExportJobName = forecastExportName,\n",
    "                                                                ForecastArn=forecastArn, \n",
    "                                                                Destination = {\n",
    "                                                                   \"S3Config\" : {\n",
    "                                                                       \"Path\":outputPath,\n",
    "                                                                       \"RoleArn\": role_arn\n",
    "                                                                   } \n",
    "                                                                }\n",
    "                                                              )"
   ]
  },
  {
   "cell_type": "code",
   "execution_count": 47,
   "id": "7a69f66f",
   "metadata": {},
   "outputs": [
    {
     "name": "stdout",
     "output_type": "stream",
     "text": [
      "arn:aws:forecast:ap-south-1:989581089309:forecast-export-job/cvvprojforecast/Export_forecasts\n"
     ]
    }
   ],
   "source": [
    "forecastExportJobArn = forecast_export_response['ForecastExportJobArn']\n",
    "print(forecastExportJobArn)"
   ]
  },
  {
   "cell_type": "code",
   "execution_count": null,
   "id": "5696f476",
   "metadata": {},
   "outputs": [],
   "source": []
  }
 ],
 "metadata": {
  "kernelspec": {
   "display_name": "conda_mxnet_p37",
   "language": "python",
   "name": "conda_mxnet_p37"
  },
  "language_info": {
   "codemirror_mode": {
    "name": "ipython",
    "version": 3
   },
   "file_extension": ".py",
   "mimetype": "text/x-python",
   "name": "python",
   "nbconvert_exporter": "python",
   "pygments_lexer": "ipython3",
   "version": "3.7.10"
  }
 },
 "nbformat": 4,
 "nbformat_minor": 5
}
